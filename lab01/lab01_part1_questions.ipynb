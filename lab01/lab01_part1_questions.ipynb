{
 "cells": [
  {
   "cell_type": "markdown",
   "metadata": {},
   "source": [
    "*Credits: materials from this notebook belong to YSDA [Practical DL](https://github.com/yandexdataschool/Practical_DL) course. Special thanks for making them available online.*"
   ]
  },
  {
   "cell_type": "markdown",
   "metadata": {},
   "source": [
    "# Lab assignment №1, part 1\n",
    "\n",
    "This lab assignment consists of several parts. You are supposed to make some transformations, train some models, estimate the quality of the models and explain your results.\n",
    "\n",
    "Several comments:\n",
    "* Don't hesitate to ask questions, it's a good practice.\n",
    "* No private/public sharing, please. The copied assignments will be graded with 0 points.\n",
    "* Blocks of this lab will be graded separately."
   ]
  },
  {
   "cell_type": "markdown",
   "metadata": {},
   "source": [
    "## 1. Matrix differentiation"
   ]
  },
  {
   "cell_type": "markdown",
   "metadata": {},
   "source": [
    "Since it easy to google every task please please please try to undestand what's going on. The \"just answer\" thing will be not counted, make sure to present derivation of your solution. It is absolutely OK if you found an answer on web then just exercise in $\\LaTeX$ copying it into here."
   ]
  },
  {
   "cell_type": "markdown",
   "metadata": {},
   "source": [
    "Useful links:\n",
    "- [Matrix Differentiation (EN)](http://www.atmos.washington.edu/~dennis/MatrixCalculus.pdf)\n",
    "- [Матричные вычисления (RU)](http://www.machinelearning.ru/wiki/images/2/2a/Matrix-Gauss.pdf)"
   ]
  },
  {
   "cell_type": "markdown",
   "metadata": {},
   "source": [
    "## Exercise 1"
   ]
  },
  {
   "cell_type": "markdown",
   "metadata": {},
   "source": [
    "$$  \n",
    "y = x^Tx,  \\quad x \\in \\mathbb{R}^N \n",
    "$$"
   ]
  },
  {
   "cell_type": "markdown",
   "metadata": {},
   "source": [
    "$$\n",
    "\\frac{dy}{dx} = \n",
    "$$ "
   ]
  },
  {
   "cell_type": "markdown",
   "metadata": {},
   "source": [
    "$\\frac{dy}{dx} = (\\frac{\\partial \\sum_{i=1}^{i=N} (x_i^2)}{\\partial x_1},...,\\frac{\\partial \\sum_{i=1}^{i=N} (x_i^2)}{\\partial x_N})^T=(2x_1,2x_2,...,2x_N)^T=2x$"
   ]
  },
  {
   "cell_type": "markdown",
   "metadata": {},
   "source": [
    "## Exercise 2"
   ]
  },
  {
   "cell_type": "markdown",
   "metadata": {},
   "source": [
    "$$ y = tr(AB) \\quad A,B \\in \\mathbb{R}^{N \\times N} $$ "
   ]
  },
  {
   "cell_type": "markdown",
   "metadata": {},
   "source": [
    "$$\n",
    "\\frac{dy}{dA} =\n",
    "$$"
   ]
  },
  {
   "cell_type": "markdown",
   "metadata": {},
   "source": [
    "$\\frac{dy}{dA} = (\\frac{\\partial \\sum_{i=1}^{i=N} \\sum_{j=1}^{j=N}(a_{ij}b_{ji}) }{\\partial a_{nm}})_{nm} = (\\frac{\\partial \\sum_{i=1}^{i=N} \\sum_{j=1}^{j=N}(a_{ij}b_{ji}) }{\\partial a_{nm}})_{nm} = (b_{mn})_{nm} = B^T$"
   ]
  },
  {
   "cell_type": "markdown",
   "metadata": {},
   "source": [
    "## Exercise 3"
   ]
  },
  {
   "cell_type": "markdown",
   "metadata": {},
   "source": [
    "$$  \n",
    "y = x^TAc , \\quad A\\in \\mathbb{R}^{N \\times N}, x\\in \\mathbb{R}^{N}, c\\in \\mathbb{R}^{N} \n",
    "$$"
   ]
  },
  {
   "cell_type": "markdown",
   "metadata": {},
   "source": [
    "$$\n",
    "\\frac{dy}{dx} =\n",
    "$$"
   ]
  },
  {
   "cell_type": "markdown",
   "metadata": {},
   "source": [
    "$$\n",
    "\\frac{dy}{dA} =\n",
    "$$ "
   ]
  },
  {
   "cell_type": "markdown",
   "metadata": {},
   "source": [
    "Hint for the latter (one of the ways): use *ex. 2* result and the fact \n",
    "$$\n",
    "tr(ABC) = tr (CAB)\n",
    "$$"
   ]
  },
  {
   "cell_type": "markdown",
   "metadata": {},
   "source": [
    "Пусть Ac = a. Тогда\n",
    "$\n",
    "\\frac{dy}{dx} = (\\frac{\\partial \\sum_{i=1}^{i=N} x_ia_i}{\\partial x_1}, ..., \\frac{\\partial \\sum_{i=1}^{i=N} x_ia_i}{\\partial x_N})^T = (a_1,a_2,...,a_n)^T = a = Ac\n",
    "$"
   ]
  },
  {
   "cell_type": "markdown",
   "metadata": {},
   "source": [
    "Воспользуемся тем, что для числа a: $tr(a)=a$. Тогда\n",
    "$\n",
    "\\frac{dy}{dA} = \\frac{d(tr(x^TAc))}{dA} = \\frac{d(tr(Acx^T))}{dA} = xc^T\n",
    "$\n",
    "Последний переход был сделан из ex.2."
   ]
  },
  {
   "cell_type": "markdown",
   "metadata": {},
   "source": [
    "## Exercise 4"
   ]
  },
  {
   "cell_type": "markdown",
   "metadata": {},
   "source": [
    "Classic matrix factorization example. Given matrix $X$ you need to find $A$, $S$ to approximate $X$. This can be done by simple gradient descent iteratively alternating $A$ and $S$ updates.\n",
    "$$\n",
    "J = || X - AS ||_F^2  , \\quad A\\in \\mathbb{R}^{N \\times R} , \\quad S\\in \\mathbb{R}^{R \\times M}\n",
    "$$\n",
    "$$\n",
    "\\frac{dJ}{dS} = ? \n",
    "$$\n",
    "\n",
    "You may use one of the following approaches:"
   ]
  },
  {
   "cell_type": "markdown",
   "metadata": {},
   "source": [
    "#### First approach\n",
    "Using ex.2 and the fact:\n",
    "$$\n",
    "|| X ||_F^2 = tr(XX^T) \n",
    "$$ \n",
    "it is easy to derive gradients (you can find it in one of the refs). "
   ]
  },
  {
   "cell_type": "markdown",
   "metadata": {},
   "source": [
    "#### Second approach\n",
    "You can use *slightly different techniques* if they suits you. Take a look at this derivation:\n",
    "<img src=\"grad.png\">\n",
    "\n",
    "(excerpt from [Handbook of blind source separation, Jutten, page 517](https://books.google.ru/books?id=PTbj03bYH6kC&printsec=frontcover&dq=Handbook+of+Blind+Source+Separation&hl=en&sa=X&ved=0ahUKEwi-q_apiJDLAhULvXIKHVXJDWcQ6AEIHDAA#v=onepage&q=Handbook%20of%20Blind%20Source%20Separation&f=false), open for better picture)."
   ]
  },
  {
   "cell_type": "markdown",
   "metadata": {},
   "source": [
    "#### Third approach\n",
    "And finally we can use chain rule! \n",
    "let $ F = AS $ \n",
    "\n",
    "**Find**\n",
    "$$\n",
    "\\frac{dJ}{dF} =  \n",
    "$$ \n",
    "and \n",
    "$$\n",
    "\\frac{dF}{dS} =  \n",
    "$$ \n",
    "(the shape should be $ NM \\times RM )$.\n",
    "\n",
    "Now it is easy do get desired gradients:\n",
    "$$\n",
    "\\frac{dJ}{dS} =  \n",
    "$$ "
   ]
  },
  {
   "cell_type": "markdown",
   "metadata": {},
   "source": [
    "$ \\frac{dJ}{dS} = \\frac{d(tr(X-AS)(X-AS)^T)}{dS} = \\frac{d(tr(XX^T - ASX^T - XS^TA^T + ASS^TA^T))}{dS} = \\frac{d(-2tr(SX^TA)+tr(SS^TA^TA))}{dS} = -2A^TX + \\frac{d(tr(SS^TA^TA))}{d(tr(SS^T))}\\frac{d(tr(SS^T))}{dS}$ <br>\n",
    "Так как $\\frac{d(tr(A))}{dA} = E$, то можно заменить d(tr(SS^T)) на d(SS^T). Осталось посчитать $\\frac{d(tr(SS^T))}{dS}$: <br>\n",
    "$\\frac{d(tr(SS^T))}{dS} = (\\frac{\\partial \\sum_{i=1}^{i=R} \\sum_{j=1}^{j=M}(s_{ij}^2)}{\\partial s_{nm}})_{nm} =(2s_{nm})_{nm} = 2S$ <br>\n",
    "Тогда ответ: <br>\n",
    "$\\frac{dJ}{dS} = -2A^TX + 2A^TAS$"
   ]
  },
  {
   "cell_type": "markdown",
   "metadata": {
    "collapsed": true,
    "jupyter": {
     "outputs_hidden": true
    }
   },
   "source": [
    "## 2. kNN questions\n",
    "Here come the questions from the assignment0_01. Please, refer to the assignment0_01 to get the context of the questions."
   ]
  },
  {
   "cell_type": "markdown",
   "metadata": {},
   "source": [
    "### Question 1\n",
    "\n",
    "Notice the structured patterns in the distance matrix, where some rows or columns are visible brighter. (Note that with the default color scheme black indicates low distances while white indicates high distances.)\n",
    "\n",
    "- What in the data is the cause behind the distinctly bright rows?\n",
    "- What causes the columns?\n",
    "\n",
    "*Your Answer:*\n",
    "\n",
    "* Если есть строка, которая заметно светлее остальных строк, это говорит о том, что для тестового обьекта соответствующего этой строке расстояние до всех тренировочных объектов большое. Это может говорить, что данная цифра нарисована неточно и не похоже на остальные цифры(возможно из-за плохого почерка получилась какая-нибудь закарючка) и из-за этого ее расстояние до цифр в обучающей выборке достаточно большое.\n",
    "* Аналогично как и со строками это может означать, что в тренировочной выборке содержится непонятная цифра, которая совсем не похожа на цифры из тестовой выборки.\n"
   ]
  },
  {
   "cell_type": "markdown",
   "metadata": {},
   "source": [
    "### Question 2\n",
    "\n",
    "We can also use other distance metrics such as L1 distance.\n",
    "For pixel values $p_{ij}^{(k)}$ at location $(i,j)$ of some image $I_k$, \n",
    "\n",
    "the mean $\\mu$ across all pixels over all images is $$\\mu=\\frac{1}{nhw}\\sum_{k=1}^n\\sum_{i=1}^{h}\\sum_{j=1}^{w}p_{ij}^{(k)}$$\n",
    "And the pixel-wise mean $\\mu_{ij}$ across all images is \n",
    "$$\\mu_{ij}=\\frac{1}{n}\\sum_{k=1}^np_{ij}^{(k)}.$$\n",
    "The general standard deviation $\\sigma$ and pixel-wise standard deviation $\\sigma_{ij}$ is defined similarly.\n",
    "\n",
    "Which of the following preprocessing steps will not change the performance of a Nearest Neighbor classifier that uses L1 distance? Select all that apply.\n",
    "1. Subtracting the mean $\\mu$ ($\\tilde{p}_{ij}^{(k)}=p_{ij}^{(k)}-\\mu$.)\n",
    "2. Subtracting the per pixel mean $\\mu_{ij}$  ($\\tilde{p}_{ij}^{(k)}=p_{ij}^{(k)}-\\mu_{ij}$.)\n",
    "3. Subtracting the mean $\\mu$ and dividing by the standard deviation $\\sigma$.\n",
    "4. Subtracting the pixel-wise mean $\\mu_{ij}$ and dividing by the pixel-wise standard deviation $\\sigma_{ij}$.\n",
    "5. Rotating the coordinate axes of the data.\n",
    "\n",
    "*Your Answer:*\n",
    "1,2,3,5\n",
    "\n",
    "*Your Explanation:*\n",
    "1. Рассмотрим как изменится L1 расстояние между двумя изображениями если вычесть среднее из всех $p_{ij}^{(k)}$: <br>\n",
    "$L1(\\tilde{p}^{(k)}-\\tilde{p}^{(l)}) = \\sum_{i=1}^{h}\\sum_{j=1}^{w}|\\tilde p_{ij}^{(k)}-\\tilde p_{ij}^{(l)}| = \\sum_{i=1}^{h}\\sum_{j=1}^{w}|p_{ij}^{(k)}-\\mu - p_{ij}^{(l)}+\\mu| = \\sum_{i=1}^{h}\\sum_{j=1}^{w}|p_{ij}^{(k)} - p_{ij}^{(l)}| = L1(p^{(k)} - p^{(l)})$\n",
    "Расстояние осталось тем же, а значит работа kNN никак не изменится.\n",
    "2. Аналогично с предыдущим можно понять, что L1 расстояние между двумя изображениеями никак не изменится, а значит работа kNN не изменится.\n",
    "3. Проверяя как изменится расстояние между двумя картинками можно понять, что оно просто поделится на $\\sigma$, а значит работа kNN никак не изменится, так как при делении всех расстояний на $\\sigma$ порядок ближайших обьектов к данному никак не изменится.\n",
    "4. В этом пункте мы уже делим каждое слагаемое в сумме на разные $\\sigma_{ij}$, а это может повлиять на kNN, так как в сумме может быть как и пиксель, который при делении сильно уменьшится и пиксель, который при делении увеличится, но не так сильно как первый, так и наоборот: пиксель, который при делении уменьшится, и пиксель, который при делении увеличится, но сильнее первого и в первом случае наше расстояние уменьшится, а во втором увеличится, то есть порядок может измениться.\n",
    "5. При вращении осей матрицы картинок транспонируются, а значит просто изменится порядок суммирования, что никак не повлияет на расстояние между картинками.  "
   ]
  },
  {
   "cell_type": "markdown",
   "metadata": {},
   "source": [
    "## Question 3\n",
    "\n",
    "Which of the following statements about $k$-Nearest Neighbor ($k$-NN) are true in a classification setting, and for all $k$? Select all that apply.\n",
    "1. The decision boundary (hyperplane between classes in feature space) of the k-NN classifier is linear.\n",
    "2. The training error of a 1-NN will always be lower than that of 5-NN.\n",
    "3. The test error of a 1-NN will always be lower than that of a 5-NN.\n",
    "4. The time needed to classify a test example with the k-NN classifier grows with the size of the training set.\n",
    "5. None of the above.\n",
    "\n",
    "*Your Answer:*\n",
    "\n",
    "2,4\n",
    "*Your Explanation:*\n",
    "1. Гиперплоскость между классами может быть не линейна. Она зависит от тренировочного датасета, а в датасете можно привести пример расстановки точек, когда их будет разделять очевидно не линейная гиперплоскость. Например на плоскости расставить точки одного класса по окружности и поставить 1 точку другого класса в ее центре, тогда kNN при k=1 будет точки, которые лежат в окружности радиуса в 2 раза меньше исходной, определять в один класс, а остальные в другой, то есть классы будет разделять окружность, а не прямая.\n",
    "2. В случае 1NN каждая точка тренировочного датасета будет попадать в класс ее одного ближайшего соседа, а это она сама и есть. То есть ошибка будет нулевая. А в случае 5-NN может получится так что 4 ближайшие точки к данной из другого класса и тогда точка попадет в другой класс, то есть ошибка будет не нулевая.\n",
    "3. На тестовой выборке очевидно можно привести пример, когда к точке тестовой выборки из одного класса ближайшая точка тренировочной выборки из другого класса, однако если мы рассмотрим 5 ближайших точек, то 4 из них будут из правильного класса, то есть в случае 5NN модель правильном классифицирует точку, а в случае 1NN нет. \n",
    "4. С ростом тренировочной выборки для каждого тестового объекта надо считать больше расстояний и потом среди них надо находить k ближайших, а из-за этого возрастает время работы kNN."
   ]
  }
 ],
 "metadata": {
  "kernelspec": {
   "display_name": "Python 3 (ipykernel)",
   "language": "python",
   "name": "python3"
  },
  "language_info": {
   "codemirror_mode": {
    "name": "ipython",
    "version": 3
   },
   "file_extension": ".py",
   "mimetype": "text/x-python",
   "name": "python",
   "nbconvert_exporter": "python",
   "pygments_lexer": "ipython3",
   "version": "3.12.1"
  }
 },
 "nbformat": 4,
 "nbformat_minor": 4
}
